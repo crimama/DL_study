{
  "nbformat": 4,
  "nbformat_minor": 0,
  "metadata": {
    "colab": {
      "name": "22.01.11_순차열_곡물_가격_예측&분류.ipynb",
      "provenance": [],
      "collapsed_sections": [],
      "toc_visible": true
    },
    "kernelspec": {
      "name": "python3",
      "display_name": "Python 3"
    },
    "language_info": {
      "name": "python"
    }
  },
  "cells": [
    {
      "cell_type": "markdown",
      "source": [
        "data from https://www.kaggle.com/mattiuzc/commodity-futures-price-history\n"
      ],
      "metadata": {
        "id": "ohP561iSdS78"
      }
    },
    {
      "cell_type": "markdown",
      "source": [
        "- 순차열 데이터는 다른 CNN, DNN처럼 정규화 하고, 데이터 분할하는 과정은 모두 동일 함 \n",
        "- 하지만 x,y를 일련의 Sequence, offset으로 나눈 다는 것이 특징 임 \n",
        "- 이 때 해당 문제가 예측인지 분류인지에 따라 데이터를 분할하는 방법이 조금 차이 남 "
      ],
      "metadata": {
        "id": "aJzUKa2bQTzI"
      }
    },
    {
      "cell_type": "markdown",
      "source": [
        "# 데이터 압축 풀기"
      ],
      "metadata": {
        "id": "xIEVVEF1frW-"
      }
    },
    {
      "cell_type": "code",
      "source": [
        "!wget https://github.com/dhrim/deep_learning_data/raw/master/commodity.zip"
      ],
      "metadata": {
        "colab": {
          "base_uri": "https://localhost:8080/"
        },
        "id": "ZnvrQDxheBkc",
        "outputId": "9abbc57b-e4d3-4437-b7bd-338212ebe7f1"
      },
      "execution_count": 1,
      "outputs": [
        {
          "output_type": "stream",
          "name": "stdout",
          "text": [
            "--2022-01-11 13:00:18--  https://github.com/dhrim/deep_learning_data/raw/master/commodity.zip\n",
            "Resolving github.com (github.com)... 140.82.112.4\n",
            "Connecting to github.com (github.com)|140.82.112.4|:443... connected.\n",
            "HTTP request sent, awaiting response... 302 Found\n",
            "Location: https://raw.githubusercontent.com/dhrim/deep_learning_data/master/commodity.zip [following]\n",
            "--2022-01-11 13:00:19--  https://raw.githubusercontent.com/dhrim/deep_learning_data/master/commodity.zip\n",
            "Resolving raw.githubusercontent.com (raw.githubusercontent.com)... 185.199.108.133, 185.199.109.133, 185.199.110.133, ...\n",
            "Connecting to raw.githubusercontent.com (raw.githubusercontent.com)|185.199.108.133|:443... connected.\n",
            "HTTP request sent, awaiting response... 200 OK\n",
            "Length: 1835488 (1.8M) [application/zip]\n",
            "Saving to: ‘commodity.zip’\n",
            "\n",
            "commodity.zip       100%[===================>]   1.75M  --.-KB/s    in 0.01s   \n",
            "\n",
            "2022-01-11 13:00:19 (174 MB/s) - ‘commodity.zip’ saved [1835488/1835488]\n",
            "\n"
          ]
        }
      ]
    },
    {
      "cell_type": "code",
      "execution_count": 3,
      "metadata": {
        "colab": {
          "base_uri": "https://localhost:8080/"
        },
        "id": "TJ7oZpj0dDrn",
        "outputId": "ed57de6c-fb75-4aec-d12b-6bdb21f39c5c"
      },
      "outputs": [
        {
          "output_type": "stream",
          "name": "stdout",
          "text": [
            "Archive:  commodity.zip\n",
            "   creating: commodity/\n",
            "  inflating: commodity/Natural Gas.csv  \n",
            "  inflating: commodity/Soybean.csv   \n",
            "  inflating: commodity/Gold.csv      \n",
            "  inflating: commodity/Platinum.csv  \n",
            "  inflating: commodity/Heating Oil.csv  \n",
            "  inflating: commodity/Palladium.csv  \n",
            "  inflating: commodity/Silver.csv    \n",
            "  inflating: commodity/Lumber.csv    \n",
            "  inflating: commodity/Lean Hogs.csv  \n",
            "  inflating: commodity/Soybean Meal.csv  \n",
            "  inflating: commodity/Copper.csv    \n",
            "  inflating: commodity/Live Cattle.csv  \n",
            "  inflating: commodity/Soybean Oil.csv  \n",
            "  inflating: commodity/Brent Crude Oil.csv  \n",
            "  inflating: commodity/Cotton.csv    \n",
            "  inflating: commodity/RBOB Gasoline.csv  \n",
            "  inflating: commodity/Oat.csv       \n",
            "  inflating: commodity/Coffee.csv    \n",
            "  inflating: commodity/Wheat.csv     \n",
            "  inflating: commodity/Sugar.csv     \n",
            "  inflating: commodity/Corn.csv      \n",
            "  inflating: commodity/Crude Oil.csv  \n",
            "  inflating: commodity/Cocoa.csv     \n",
            "  inflating: commodity/Feeder Cattle.csv  \n"
          ]
        }
      ],
      "source": [
        "!rm -rf commodity\n",
        "!unzip commodity.zip"
      ]
    },
    {
      "cell_type": "code",
      "source": [
        "import numpy as np\n",
        "import pandas as pd\n",
        "import matplotlib.pyplot as plt"
      ],
      "metadata": {
        "id": "JRjPtpGXdW0L"
      },
      "execution_count": 4,
      "outputs": []
    },
    {
      "cell_type": "markdown",
      "source": [
        "# 파라매터 설정"
      ],
      "metadata": {
        "id": "37eayrO3y-3K"
      }
    },
    {
      "cell_type": "code",
      "source": [
        "SEQUENCE_LENGTH = 10\n",
        "OFFSET = 1\n",
        "BATCH_SIZE = 32"
      ],
      "metadata": {
        "id": "F2iE0M7Hy6Q6"
      },
      "execution_count": 5,
      "outputs": []
    },
    {
      "cell_type": "markdown",
      "source": [
        "# 데이터 로딩"
      ],
      "metadata": {
        "id": "Zu_4OtD_ftsY"
      }
    },
    {
      "cell_type": "code",
      "source": [
        "df = pd.read_csv(\"commodity/Silver.csv\")\n",
        "df.head()"
      ],
      "metadata": {
        "colab": {
          "base_uri": "https://localhost:8080/",
          "height": 206
        },
        "id": "g4lWKXiCdcP8",
        "outputId": "f0b46179-4821-4d15-f4fb-fd5f90d3dc8a"
      },
      "execution_count": 126,
      "outputs": [
        {
          "output_type": "execute_result",
          "data": {
            "text/html": [
              "\n",
              "  <div id=\"df-8929c833-ef62-4582-a1a5-12480b6fdc37\">\n",
              "    <div class=\"colab-df-container\">\n",
              "      <div>\n",
              "<style scoped>\n",
              "    .dataframe tbody tr th:only-of-type {\n",
              "        vertical-align: middle;\n",
              "    }\n",
              "\n",
              "    .dataframe tbody tr th {\n",
              "        vertical-align: top;\n",
              "    }\n",
              "\n",
              "    .dataframe thead th {\n",
              "        text-align: right;\n",
              "    }\n",
              "</style>\n",
              "<table border=\"1\" class=\"dataframe\">\n",
              "  <thead>\n",
              "    <tr style=\"text-align: right;\">\n",
              "      <th></th>\n",
              "      <th>Date</th>\n",
              "      <th>Open</th>\n",
              "      <th>High</th>\n",
              "      <th>Low</th>\n",
              "      <th>Close</th>\n",
              "      <th>Adj Close</th>\n",
              "      <th>Volume</th>\n",
              "    </tr>\n",
              "  </thead>\n",
              "  <tbody>\n",
              "    <tr>\n",
              "      <th>0</th>\n",
              "      <td>2000-08-30</td>\n",
              "      <td>4.950</td>\n",
              "      <td>4.950</td>\n",
              "      <td>4.895</td>\n",
              "      <td>4.930</td>\n",
              "      <td>4.930</td>\n",
              "      <td>2319.0</td>\n",
              "    </tr>\n",
              "    <tr>\n",
              "      <th>1</th>\n",
              "      <td>2000-08-31</td>\n",
              "      <td>4.920</td>\n",
              "      <td>5.045</td>\n",
              "      <td>4.920</td>\n",
              "      <td>5.003</td>\n",
              "      <td>5.003</td>\n",
              "      <td>1612.0</td>\n",
              "    </tr>\n",
              "    <tr>\n",
              "      <th>2</th>\n",
              "      <td>2000-09-01</td>\n",
              "      <td>5.035</td>\n",
              "      <td>5.035</td>\n",
              "      <td>4.985</td>\n",
              "      <td>5.004</td>\n",
              "      <td>5.004</td>\n",
              "      <td>1375.0</td>\n",
              "    </tr>\n",
              "    <tr>\n",
              "      <th>3</th>\n",
              "      <td>2000-09-04</td>\n",
              "      <td>NaN</td>\n",
              "      <td>NaN</td>\n",
              "      <td>NaN</td>\n",
              "      <td>NaN</td>\n",
              "      <td>NaN</td>\n",
              "      <td>NaN</td>\n",
              "    </tr>\n",
              "    <tr>\n",
              "      <th>4</th>\n",
              "      <td>2000-09-05</td>\n",
              "      <td>4.990</td>\n",
              "      <td>5.005</td>\n",
              "      <td>4.975</td>\n",
              "      <td>4.998</td>\n",
              "      <td>4.998</td>\n",
              "      <td>856.0</td>\n",
              "    </tr>\n",
              "  </tbody>\n",
              "</table>\n",
              "</div>\n",
              "      <button class=\"colab-df-convert\" onclick=\"convertToInteractive('df-8929c833-ef62-4582-a1a5-12480b6fdc37')\"\n",
              "              title=\"Convert this dataframe to an interactive table.\"\n",
              "              style=\"display:none;\">\n",
              "        \n",
              "  <svg xmlns=\"http://www.w3.org/2000/svg\" height=\"24px\"viewBox=\"0 0 24 24\"\n",
              "       width=\"24px\">\n",
              "    <path d=\"M0 0h24v24H0V0z\" fill=\"none\"/>\n",
              "    <path d=\"M18.56 5.44l.94 2.06.94-2.06 2.06-.94-2.06-.94-.94-2.06-.94 2.06-2.06.94zm-11 1L8.5 8.5l.94-2.06 2.06-.94-2.06-.94L8.5 2.5l-.94 2.06-2.06.94zm10 10l.94 2.06.94-2.06 2.06-.94-2.06-.94-.94-2.06-.94 2.06-2.06.94z\"/><path d=\"M17.41 7.96l-1.37-1.37c-.4-.4-.92-.59-1.43-.59-.52 0-1.04.2-1.43.59L10.3 9.45l-7.72 7.72c-.78.78-.78 2.05 0 2.83L4 21.41c.39.39.9.59 1.41.59.51 0 1.02-.2 1.41-.59l7.78-7.78 2.81-2.81c.8-.78.8-2.07 0-2.86zM5.41 20L4 18.59l7.72-7.72 1.47 1.35L5.41 20z\"/>\n",
              "  </svg>\n",
              "      </button>\n",
              "      \n",
              "  <style>\n",
              "    .colab-df-container {\n",
              "      display:flex;\n",
              "      flex-wrap:wrap;\n",
              "      gap: 12px;\n",
              "    }\n",
              "\n",
              "    .colab-df-convert {\n",
              "      background-color: #E8F0FE;\n",
              "      border: none;\n",
              "      border-radius: 50%;\n",
              "      cursor: pointer;\n",
              "      display: none;\n",
              "      fill: #1967D2;\n",
              "      height: 32px;\n",
              "      padding: 0 0 0 0;\n",
              "      width: 32px;\n",
              "    }\n",
              "\n",
              "    .colab-df-convert:hover {\n",
              "      background-color: #E2EBFA;\n",
              "      box-shadow: 0px 1px 2px rgba(60, 64, 67, 0.3), 0px 1px 3px 1px rgba(60, 64, 67, 0.15);\n",
              "      fill: #174EA6;\n",
              "    }\n",
              "\n",
              "    [theme=dark] .colab-df-convert {\n",
              "      background-color: #3B4455;\n",
              "      fill: #D2E3FC;\n",
              "    }\n",
              "\n",
              "    [theme=dark] .colab-df-convert:hover {\n",
              "      background-color: #434B5C;\n",
              "      box-shadow: 0px 1px 3px 1px rgba(0, 0, 0, 0.15);\n",
              "      filter: drop-shadow(0px 1px 2px rgba(0, 0, 0, 0.3));\n",
              "      fill: #FFFFFF;\n",
              "    }\n",
              "  </style>\n",
              "\n",
              "      <script>\n",
              "        const buttonEl =\n",
              "          document.querySelector('#df-8929c833-ef62-4582-a1a5-12480b6fdc37 button.colab-df-convert');\n",
              "        buttonEl.style.display =\n",
              "          google.colab.kernel.accessAllowed ? 'block' : 'none';\n",
              "\n",
              "        async function convertToInteractive(key) {\n",
              "          const element = document.querySelector('#df-8929c833-ef62-4582-a1a5-12480b6fdc37');\n",
              "          const dataTable =\n",
              "            await google.colab.kernel.invokeFunction('convertToInteractive',\n",
              "                                                     [key], {});\n",
              "          if (!dataTable) return;\n",
              "\n",
              "          const docLinkHtml = 'Like what you see? Visit the ' +\n",
              "            '<a target=\"_blank\" href=https://colab.research.google.com/notebooks/data_table.ipynb>data table notebook</a>'\n",
              "            + ' to learn more about interactive tables.';\n",
              "          element.innerHTML = '';\n",
              "          dataTable['output_type'] = 'display_data';\n",
              "          await google.colab.output.renderOutput(dataTable, element);\n",
              "          const docLink = document.createElement('div');\n",
              "          docLink.innerHTML = docLinkHtml;\n",
              "          element.appendChild(docLink);\n",
              "        }\n",
              "      </script>\n",
              "    </div>\n",
              "  </div>\n",
              "  "
            ],
            "text/plain": [
              "         Date   Open   High    Low  Close  Adj Close  Volume\n",
              "0  2000-08-30  4.950  4.950  4.895  4.930      4.930  2319.0\n",
              "1  2000-08-31  4.920  5.045  4.920  5.003      5.003  1612.0\n",
              "2  2000-09-01  5.035  5.035  4.985  5.004      5.004  1375.0\n",
              "3  2000-09-04    NaN    NaN    NaN    NaN        NaN     NaN\n",
              "4  2000-09-05  4.990  5.005  4.975  4.998      4.998   856.0"
            ]
          },
          "metadata": {},
          "execution_count": 126
        }
      ]
    },
    {
      "cell_type": "code",
      "source": [
        "print(len(df))"
      ],
      "metadata": {
        "colab": {
          "base_uri": "https://localhost:8080/"
        },
        "id": "er07xkbpdnLf",
        "outputId": "f774801d-9bb5-44f0-c6bb-c0753a4bb10e"
      },
      "execution_count": null,
      "outputs": [
        {
          "output_type": "stream",
          "name": "stdout",
          "text": [
            "5291\n"
          ]
        }
      ]
    },
    {
      "cell_type": "markdown",
      "source": [
        "# 전처리"
      ],
      "metadata": {
        "id": "R6qmxZIlOhdP"
      }
    },
    {
      "cell_type": "markdown",
      "source": [
        "## 결측치 처리"
      ],
      "metadata": {
        "id": "kh7oOvIifwgm"
      }
    },
    {
      "cell_type": "code",
      "source": [
        "df.info()"
      ],
      "metadata": {
        "colab": {
          "base_uri": "https://localhost:8080/"
        },
        "id": "suMkYKdTduGY",
        "outputId": "656ab5d6-bffd-41f7-9eb9-dacab1b79bc6"
      },
      "execution_count": 20,
      "outputs": [
        {
          "output_type": "stream",
          "name": "stdout",
          "text": [
            "<class 'pandas.core.frame.DataFrame'>\n",
            "RangeIndex: 5291 entries, 0 to 5290\n",
            "Data columns (total 7 columns):\n",
            " #   Column     Non-Null Count  Dtype  \n",
            "---  ------     --------------  -----  \n",
            " 0   Date       5291 non-null   object \n",
            " 1   Open       5181 non-null   float64\n",
            " 2   High       5181 non-null   float64\n",
            " 3   Low        5181 non-null   float64\n",
            " 4   Close      5181 non-null   float64\n",
            " 5   Adj Close  5181 non-null   float64\n",
            " 6   Volume     5181 non-null   float64\n",
            "dtypes: float64(6), object(1)\n",
            "memory usage: 289.5+ KB\n"
          ]
        }
      ]
    },
    {
      "cell_type": "code",
      "source": [
        "df.isnull().sum()"
      ],
      "metadata": {
        "colab": {
          "base_uri": "https://localhost:8080/"
        },
        "id": "8VlYB3fEd0bM",
        "outputId": "9c8475a7-e8f1-4f3d-87b5-2c41da78478d"
      },
      "execution_count": null,
      "outputs": [
        {
          "output_type": "execute_result",
          "data": {
            "text/plain": [
              "Date           0\n",
              "Open         110\n",
              "High         110\n",
              "Low          110\n",
              "Close        110\n",
              "Adj Close    110\n",
              "Volume       110\n",
              "dtype: int64"
            ]
          },
          "metadata": {},
          "execution_count": 133
        }
      ]
    },
    {
      "cell_type": "code",
      "source": [
        "df = df.dropna()"
      ],
      "metadata": {
        "id": "uMf9RDKZd9WC"
      },
      "execution_count": 127,
      "outputs": []
    },
    {
      "cell_type": "code",
      "source": [
        "df.isnull().sum()"
      ],
      "metadata": {
        "colab": {
          "base_uri": "https://localhost:8080/"
        },
        "id": "dnO_h4QJeH8t",
        "outputId": "ddf69a83-35be-436d-8ad0-9b136a97dacc"
      },
      "execution_count": null,
      "outputs": [
        {
          "output_type": "execute_result",
          "data": {
            "text/plain": [
              "Date         0\n",
              "Open         0\n",
              "High         0\n",
              "Low          0\n",
              "Close        0\n",
              "Adj Close    0\n",
              "Volume       0\n",
              "dtype: int64"
            ]
          },
          "metadata": {},
          "execution_count": 135
        }
      ]
    },
    {
      "cell_type": "code",
      "source": [
        "df.info()"
      ],
      "metadata": {
        "colab": {
          "base_uri": "https://localhost:8080/"
        },
        "id": "YMIpK7ebeROK",
        "outputId": "96e167cf-dec4-45af-ae99-ce1254db44af"
      },
      "execution_count": 128,
      "outputs": [
        {
          "output_type": "stream",
          "name": "stdout",
          "text": [
            "<class 'pandas.core.frame.DataFrame'>\n",
            "Int64Index: 5181 entries, 0 to 5290\n",
            "Data columns (total 7 columns):\n",
            " #   Column     Non-Null Count  Dtype  \n",
            "---  ------     --------------  -----  \n",
            " 0   Date       5181 non-null   object \n",
            " 1   Open       5181 non-null   float64\n",
            " 2   High       5181 non-null   float64\n",
            " 3   Low        5181 non-null   float64\n",
            " 4   Close      5181 non-null   float64\n",
            " 5   Adj Close  5181 non-null   float64\n",
            " 6   Volume     5181 non-null   float64\n",
            "dtypes: float64(6), object(1)\n",
            "memory usage: 323.8+ KB\n"
          ]
        }
      ]
    },
    {
      "cell_type": "markdown",
      "source": [
        "## 정렬 순서 확인"
      ],
      "metadata": {
        "id": "t3J2t4Ymf0UF"
      }
    },
    {
      "cell_type": "code",
      "source": [
        "df.sort_values(by=[\"Date\"])"
      ],
      "metadata": {
        "colab": {
          "base_uri": "https://localhost:8080/",
          "height": 424
        },
        "id": "_ms5GTSxew67",
        "outputId": "affb7a63-3d0b-4a60-f387-ccf731a56dd7"
      },
      "execution_count": 129,
      "outputs": [
        {
          "output_type": "execute_result",
          "data": {
            "text/html": [
              "\n",
              "  <div id=\"df-251e8fe4-039d-4b58-b4f3-604afc6f1fc1\">\n",
              "    <div class=\"colab-df-container\">\n",
              "      <div>\n",
              "<style scoped>\n",
              "    .dataframe tbody tr th:only-of-type {\n",
              "        vertical-align: middle;\n",
              "    }\n",
              "\n",
              "    .dataframe tbody tr th {\n",
              "        vertical-align: top;\n",
              "    }\n",
              "\n",
              "    .dataframe thead th {\n",
              "        text-align: right;\n",
              "    }\n",
              "</style>\n",
              "<table border=\"1\" class=\"dataframe\">\n",
              "  <thead>\n",
              "    <tr style=\"text-align: right;\">\n",
              "      <th></th>\n",
              "      <th>Date</th>\n",
              "      <th>Open</th>\n",
              "      <th>High</th>\n",
              "      <th>Low</th>\n",
              "      <th>Close</th>\n",
              "      <th>Adj Close</th>\n",
              "      <th>Volume</th>\n",
              "    </tr>\n",
              "  </thead>\n",
              "  <tbody>\n",
              "    <tr>\n",
              "      <th>0</th>\n",
              "      <td>2000-08-30</td>\n",
              "      <td>4.950000</td>\n",
              "      <td>4.950000</td>\n",
              "      <td>4.895000</td>\n",
              "      <td>4.930000</td>\n",
              "      <td>4.930000</td>\n",
              "      <td>2319.0</td>\n",
              "    </tr>\n",
              "    <tr>\n",
              "      <th>1</th>\n",
              "      <td>2000-08-31</td>\n",
              "      <td>4.920000</td>\n",
              "      <td>5.045000</td>\n",
              "      <td>4.920000</td>\n",
              "      <td>5.003000</td>\n",
              "      <td>5.003000</td>\n",
              "      <td>1612.0</td>\n",
              "    </tr>\n",
              "    <tr>\n",
              "      <th>2</th>\n",
              "      <td>2000-09-01</td>\n",
              "      <td>5.035000</td>\n",
              "      <td>5.035000</td>\n",
              "      <td>4.985000</td>\n",
              "      <td>5.004000</td>\n",
              "      <td>5.004000</td>\n",
              "      <td>1375.0</td>\n",
              "    </tr>\n",
              "    <tr>\n",
              "      <th>4</th>\n",
              "      <td>2000-09-05</td>\n",
              "      <td>4.990000</td>\n",
              "      <td>5.005000</td>\n",
              "      <td>4.975000</td>\n",
              "      <td>4.998000</td>\n",
              "      <td>4.998000</td>\n",
              "      <td>856.0</td>\n",
              "    </tr>\n",
              "    <tr>\n",
              "      <th>5</th>\n",
              "      <td>2000-09-06</td>\n",
              "      <td>5.000000</td>\n",
              "      <td>5.000000</td>\n",
              "      <td>4.980000</td>\n",
              "      <td>4.983000</td>\n",
              "      <td>4.983000</td>\n",
              "      <td>232.0</td>\n",
              "    </tr>\n",
              "    <tr>\n",
              "      <th>...</th>\n",
              "      <td>...</td>\n",
              "      <td>...</td>\n",
              "      <td>...</td>\n",
              "      <td>...</td>\n",
              "      <td>...</td>\n",
              "      <td>...</td>\n",
              "      <td>...</td>\n",
              "    </tr>\n",
              "    <tr>\n",
              "      <th>5286</th>\n",
              "      <td>2021-06-03</td>\n",
              "      <td>27.190001</td>\n",
              "      <td>27.459999</td>\n",
              "      <td>27.190001</td>\n",
              "      <td>27.459999</td>\n",
              "      <td>27.459999</td>\n",
              "      <td>20.0</td>\n",
              "    </tr>\n",
              "    <tr>\n",
              "      <th>5287</th>\n",
              "      <td>2021-06-04</td>\n",
              "      <td>27.879000</td>\n",
              "      <td>27.879000</td>\n",
              "      <td>27.879000</td>\n",
              "      <td>27.879000</td>\n",
              "      <td>27.879000</td>\n",
              "      <td>0.0</td>\n",
              "    </tr>\n",
              "    <tr>\n",
              "      <th>5288</th>\n",
              "      <td>2021-06-07</td>\n",
              "      <td>27.615000</td>\n",
              "      <td>28.000999</td>\n",
              "      <td>27.615000</td>\n",
              "      <td>28.000999</td>\n",
              "      <td>28.000999</td>\n",
              "      <td>4.0</td>\n",
              "    </tr>\n",
              "    <tr>\n",
              "      <th>5289</th>\n",
              "      <td>2021-06-08</td>\n",
              "      <td>28.010000</td>\n",
              "      <td>28.010000</td>\n",
              "      <td>27.705000</td>\n",
              "      <td>27.715000</td>\n",
              "      <td>27.715000</td>\n",
              "      <td>27.0</td>\n",
              "    </tr>\n",
              "    <tr>\n",
              "      <th>5290</th>\n",
              "      <td>2021-06-09</td>\n",
              "      <td>27.695000</td>\n",
              "      <td>27.985001</td>\n",
              "      <td>27.695000</td>\n",
              "      <td>27.985001</td>\n",
              "      <td>27.985001</td>\n",
              "      <td>27.0</td>\n",
              "    </tr>\n",
              "  </tbody>\n",
              "</table>\n",
              "<p>5181 rows × 7 columns</p>\n",
              "</div>\n",
              "      <button class=\"colab-df-convert\" onclick=\"convertToInteractive('df-251e8fe4-039d-4b58-b4f3-604afc6f1fc1')\"\n",
              "              title=\"Convert this dataframe to an interactive table.\"\n",
              "              style=\"display:none;\">\n",
              "        \n",
              "  <svg xmlns=\"http://www.w3.org/2000/svg\" height=\"24px\"viewBox=\"0 0 24 24\"\n",
              "       width=\"24px\">\n",
              "    <path d=\"M0 0h24v24H0V0z\" fill=\"none\"/>\n",
              "    <path d=\"M18.56 5.44l.94 2.06.94-2.06 2.06-.94-2.06-.94-.94-2.06-.94 2.06-2.06.94zm-11 1L8.5 8.5l.94-2.06 2.06-.94-2.06-.94L8.5 2.5l-.94 2.06-2.06.94zm10 10l.94 2.06.94-2.06 2.06-.94-2.06-.94-.94-2.06-.94 2.06-2.06.94z\"/><path d=\"M17.41 7.96l-1.37-1.37c-.4-.4-.92-.59-1.43-.59-.52 0-1.04.2-1.43.59L10.3 9.45l-7.72 7.72c-.78.78-.78 2.05 0 2.83L4 21.41c.39.39.9.59 1.41.59.51 0 1.02-.2 1.41-.59l7.78-7.78 2.81-2.81c.8-.78.8-2.07 0-2.86zM5.41 20L4 18.59l7.72-7.72 1.47 1.35L5.41 20z\"/>\n",
              "  </svg>\n",
              "      </button>\n",
              "      \n",
              "  <style>\n",
              "    .colab-df-container {\n",
              "      display:flex;\n",
              "      flex-wrap:wrap;\n",
              "      gap: 12px;\n",
              "    }\n",
              "\n",
              "    .colab-df-convert {\n",
              "      background-color: #E8F0FE;\n",
              "      border: none;\n",
              "      border-radius: 50%;\n",
              "      cursor: pointer;\n",
              "      display: none;\n",
              "      fill: #1967D2;\n",
              "      height: 32px;\n",
              "      padding: 0 0 0 0;\n",
              "      width: 32px;\n",
              "    }\n",
              "\n",
              "    .colab-df-convert:hover {\n",
              "      background-color: #E2EBFA;\n",
              "      box-shadow: 0px 1px 2px rgba(60, 64, 67, 0.3), 0px 1px 3px 1px rgba(60, 64, 67, 0.15);\n",
              "      fill: #174EA6;\n",
              "    }\n",
              "\n",
              "    [theme=dark] .colab-df-convert {\n",
              "      background-color: #3B4455;\n",
              "      fill: #D2E3FC;\n",
              "    }\n",
              "\n",
              "    [theme=dark] .colab-df-convert:hover {\n",
              "      background-color: #434B5C;\n",
              "      box-shadow: 0px 1px 3px 1px rgba(0, 0, 0, 0.15);\n",
              "      filter: drop-shadow(0px 1px 2px rgba(0, 0, 0, 0.3));\n",
              "      fill: #FFFFFF;\n",
              "    }\n",
              "  </style>\n",
              "\n",
              "      <script>\n",
              "        const buttonEl =\n",
              "          document.querySelector('#df-251e8fe4-039d-4b58-b4f3-604afc6f1fc1 button.colab-df-convert');\n",
              "        buttonEl.style.display =\n",
              "          google.colab.kernel.accessAllowed ? 'block' : 'none';\n",
              "\n",
              "        async function convertToInteractive(key) {\n",
              "          const element = document.querySelector('#df-251e8fe4-039d-4b58-b4f3-604afc6f1fc1');\n",
              "          const dataTable =\n",
              "            await google.colab.kernel.invokeFunction('convertToInteractive',\n",
              "                                                     [key], {});\n",
              "          if (!dataTable) return;\n",
              "\n",
              "          const docLinkHtml = 'Like what you see? Visit the ' +\n",
              "            '<a target=\"_blank\" href=https://colab.research.google.com/notebooks/data_table.ipynb>data table notebook</a>'\n",
              "            + ' to learn more about interactive tables.';\n",
              "          element.innerHTML = '';\n",
              "          dataTable['output_type'] = 'display_data';\n",
              "          await google.colab.output.renderOutput(dataTable, element);\n",
              "          const docLink = document.createElement('div');\n",
              "          docLink.innerHTML = docLinkHtml;\n",
              "          element.appendChild(docLink);\n",
              "        }\n",
              "      </script>\n",
              "    </div>\n",
              "  </div>\n",
              "  "
            ],
            "text/plain": [
              "            Date       Open       High        Low      Close  Adj Close  Volume\n",
              "0     2000-08-30   4.950000   4.950000   4.895000   4.930000   4.930000  2319.0\n",
              "1     2000-08-31   4.920000   5.045000   4.920000   5.003000   5.003000  1612.0\n",
              "2     2000-09-01   5.035000   5.035000   4.985000   5.004000   5.004000  1375.0\n",
              "4     2000-09-05   4.990000   5.005000   4.975000   4.998000   4.998000   856.0\n",
              "5     2000-09-06   5.000000   5.000000   4.980000   4.983000   4.983000   232.0\n",
              "...          ...        ...        ...        ...        ...        ...     ...\n",
              "5286  2021-06-03  27.190001  27.459999  27.190001  27.459999  27.459999    20.0\n",
              "5287  2021-06-04  27.879000  27.879000  27.879000  27.879000  27.879000     0.0\n",
              "5288  2021-06-07  27.615000  28.000999  27.615000  28.000999  28.000999     4.0\n",
              "5289  2021-06-08  28.010000  28.010000  27.705000  27.715000  27.715000    27.0\n",
              "5290  2021-06-09  27.695000  27.985001  27.695000  27.985001  27.985001    27.0\n",
              "\n",
              "[5181 rows x 7 columns]"
            ]
          },
          "metadata": {},
          "execution_count": 129
        }
      ]
    },
    {
      "cell_type": "code",
      "source": [
        "sorted_index = df.sort_values(by=[\"Date\"]).index"
      ],
      "metadata": {
        "id": "ZRs14Udwe5SR"
      },
      "execution_count": 130,
      "outputs": []
    },
    {
      "cell_type": "code",
      "source": [
        "print(sorted_index)\n",
        "print(sorted_index - df.index)\n",
        "print(sum(sorted_index - df.index))"
      ],
      "metadata": {
        "colab": {
          "base_uri": "https://localhost:8080/"
        },
        "id": "ybOz2otyfTjE",
        "outputId": "1647be8b-377b-4b7a-9bb2-e4a4eacbdc51"
      },
      "execution_count": 131,
      "outputs": [
        {
          "output_type": "stream",
          "name": "stdout",
          "text": [
            "Int64Index([   0,    1,    2,    4,    5,    6,    7,    8,    9,   10,\n",
            "            ...\n",
            "            5281, 5282, 5283, 5284, 5285, 5286, 5287, 5288, 5289, 5290],\n",
            "           dtype='int64', length=5181)\n",
            "Int64Index([0, 0, 0, 0, 0, 0, 0, 0, 0, 0,\n",
            "            ...\n",
            "            0, 0, 0, 0, 0, 0, 0, 0, 0, 0],\n",
            "           dtype='int64', length=5181)\n",
            "0\n"
          ]
        }
      ]
    },
    {
      "cell_type": "code",
      "source": [
        "print(df['Close'] - df['Adj Close'])\n",
        "print(sum(df['Close'] - df['Adj Close']))"
      ],
      "metadata": {
        "colab": {
          "base_uri": "https://localhost:8080/"
        },
        "id": "bzUbYVEJhVab",
        "outputId": "ba7b12ef-8a0d-4253-daf5-6151adbaf23c"
      },
      "execution_count": 132,
      "outputs": [
        {
          "output_type": "stream",
          "name": "stdout",
          "text": [
            "0       0.0\n",
            "1       0.0\n",
            "2       0.0\n",
            "4       0.0\n",
            "5       0.0\n",
            "       ... \n",
            "5286    0.0\n",
            "5287    0.0\n",
            "5288    0.0\n",
            "5289    0.0\n",
            "5290    0.0\n",
            "Length: 5181, dtype: float64\n",
            "0.0\n"
          ]
        }
      ]
    },
    {
      "cell_type": "markdown",
      "source": [
        "## 컬럼 제거 "
      ],
      "metadata": {
        "id": "hluD7kwDOmOu"
      }
    },
    {
      "cell_type": "code",
      "source": [
        "df.drop(columns=[\"Date\", \"Adj Close\"], inplace=True)"
      ],
      "metadata": {
        "id": "RU6dxvFnhqTB"
      },
      "execution_count": 133,
      "outputs": []
    },
    {
      "cell_type": "code",
      "source": [
        "for i in range(len(df.columns)):\n",
        "    print(df.columns[i])\n",
        "    plt.hist(df.iloc[:,i], bins=1000)\n",
        "    plt.show()"
      ],
      "metadata": {
        "colab": {
          "base_uri": "https://localhost:8080/",
          "height": 1000
        },
        "id": "LF73-1VEitmC",
        "outputId": "a8a0fcb0-6673-4bfa-fb63-05cc4b3aa1ef"
      },
      "execution_count": 45,
      "outputs": [
        {
          "output_type": "stream",
          "name": "stdout",
          "text": [
            "Open\n"
          ]
        },
        {
          "output_type": "display_data",
          "data": {
            "image/png": "[encoded data removed]",
            "text/plain": [
              "<Figure size 432x288 with 1 Axes>"
            ]
          },
          "metadata": {
            "needs_background": "light"
          }
        },
        {
          "output_type": "stream",
          "name": "stdout",
          "text": [
            "High\n"
          ]
        },
        {
          "output_type": "display_data",
          "data": {
            "image/png": "[encoded data removed]",
            "text/plain": [
              "<Figure size 432x288 with 1 Axes>"
            ]
          },
          "metadata": {
            "needs_background": "light"
          }
        },
        {
          "output_type": "stream",
          "name": "stdout",
          "text": [
            "Low\n"
          ]
        },
        {
          "output_type": "display_data",
          "data": {
            "image/png": "[encoded data removed]",
            "text/plain": [
              "<Figure size 432x288 with 1 Axes>"
            ]
          },
          "metadata": {
            "needs_background": "light"
          }
        },
        {
          "output_type": "stream",
          "name": "stdout",
          "text": [
            "Close\n"
          ]
        },
        {
          "output_type": "display_data",
          "data": {
            "image/png": "[encoded data removed]",
            "text/plain": [
              "<Figure size 432x288 with 1 Axes>"
            ]
          },
          "metadata": {
            "needs_background": "light"
          }
        },
        {
          "output_type": "stream",
          "name": "stdout",
          "text": [
            "Volume\n"
          ]
        },
        {
          "output_type": "display_data",
          "data": {
            "image/png": "[encoded data removed]",
            "text/plain": [
              "<Figure size 432x288 with 1 Axes>"
            ]
          },
          "metadata": {
            "needs_background": "light"
          }
        }
      ]
    },
    {
      "cell_type": "code",
      "source": [
        "plt.figure(figsize=(14,3))\n",
        "plt.plot(df.iloc[:,0])\n",
        "plt.show()\n",
        "\n",
        "plt.figure(figsize=(14,3))\n",
        "plt.plot(df.iloc[:,4])\n",
        "plt.show()\n"
      ],
      "metadata": {
        "colab": {
          "base_uri": "https://localhost:8080/",
          "height": 408
        },
        "id": "M7QQvslWo4qS",
        "outputId": "fb168831-d4f2-4be8-cdad-c0e7a727f6ed"
      },
      "execution_count": null,
      "outputs": [
        {
          "output_type": "display_data",
          "data": {
            "image/png": "[encoded data removed]",
            "text/plain": [
              "<Figure size 1008x216 with 1 Axes>"
            ]
          },
          "metadata": {
            "needs_background": "light"
          }
        },
        {
          "output_type": "display_data",
          "data": {
            "image/png": "[encoded data removed]",
            "text/plain": [
              "<Figure size 1008x216 with 1 Axes>"
            ]
          },
          "metadata": {
            "needs_background": "light"
          }
        }
      ]
    },
    {
      "cell_type": "code",
      "source": [
        "raw_data = df.to_numpy()\n",
        "print(raw_data.shape)"
      ],
      "metadata": {
        "colab": {
          "base_uri": "https://localhost:8080/"
        },
        "id": "FadYdDdcgt47",
        "outputId": "f3d0c630-2303-4db1-f36b-6a1d86a6aaf5"
      },
      "execution_count": 134,
      "outputs": [
        {
          "output_type": "stream",
          "name": "stdout",
          "text": [
            "(5181, 5)\n"
          ]
        }
      ]
    },
    {
      "cell_type": "code",
      "source": [
        "print(raw_data[:5])"
      ],
      "metadata": {
        "colab": {
          "base_uri": "https://localhost:8080/"
        },
        "id": "GplAuvN3g30t",
        "outputId": "acbaf8db-bf78-41f8-aa1a-e636fad14d14"
      },
      "execution_count": 135,
      "outputs": [
        {
          "output_type": "stream",
          "name": "stdout",
          "text": [
            "[[   4.95     4.95     4.895    4.93  2319.   ]\n",
            " [   4.92     5.045    4.92     5.003 1612.   ]\n",
            " [   5.035    5.035    4.985    5.004 1375.   ]\n",
            " [   4.99     5.005    4.975    4.998  856.   ]\n",
            " [   5.       5.       4.98     4.983  232.   ]]\n"
          ]
        }
      ]
    },
    {
      "cell_type": "markdown",
      "source": [
        "## normalize"
      ],
      "metadata": {
        "id": "ESYLyhWeiRrf"
      }
    },
    {
      "cell_type": "code",
      "source": [
        "maxs = raw_data.max(axis=0)\n",
        "print(maxs)\n",
        "mins = raw_data.min(axis=0)\n",
        "print(mins)"
      ],
      "metadata": {
        "colab": {
          "base_uri": "https://localhost:8080/"
        },
        "id": "NmEhUiEAhxOG",
        "outputId": "e65ea3a2-332d-4598-a457-324e60d4b8a3"
      },
      "execution_count": 136,
      "outputs": [
        {
          "output_type": "stream",
          "name": "stdout",
          "text": [
            "[4.8459999e+01 4.9520000e+01 4.7540001e+01 4.8584000e+01 1.7029700e+05]\n",
            "[4.026 4.026 4.026 4.026 0.   ]\n"
          ]
        }
      ]
    },
    {
      "cell_type": "code",
      "source": [
        "normalized = (raw_data - mins) / (maxs - mins)\n",
        "print(normalized[:5])"
      ],
      "metadata": {
        "colab": {
          "base_uri": "https://localhost:8080/"
        },
        "id": "SwjTIY6aiHQo",
        "outputId": "05ec037c-e831-4e41-c5eb-36f8c2f48fdc"
      },
      "execution_count": 137,
      "outputs": [
        {
          "output_type": "stream",
          "name": "stdout",
          "text": [
            "[[0.02079489 0.02031037 0.01997058 0.02028816 0.01361739]\n",
            " [0.02011973 0.02239856 0.02054511 0.02192648 0.00946582]\n",
            " [0.02270784 0.02217875 0.02203888 0.02194892 0.00807413]\n",
            " [0.0216951  0.02151932 0.02180907 0.02181426 0.00502651]\n",
            " [0.02192015 0.02140942 0.02192398 0.02147762 0.00136233]]\n"
          ]
        }
      ]
    },
    {
      "cell_type": "code",
      "source": [
        "preprocessed = normalized"
      ],
      "metadata": {
        "id": "35hCAbte1YO3"
      },
      "execution_count": 138,
      "outputs": []
    },
    {
      "cell_type": "markdown",
      "source": [
        "# 예측 "
      ],
      "metadata": {
        "id": "c0LQqW08jtvW"
      }
    },
    {
      "cell_type": "code",
      "source": [
        "numbers = preprocessed"
      ],
      "metadata": {
        "id": "fnzuwFSkkFF2"
      },
      "execution_count": 139,
      "outputs": []
    },
    {
      "cell_type": "code",
      "source": [
        "raw_x = []\n",
        "raw_y = []\n",
        "\n",
        "for i in range(len(numbers)):\n",
        "  if i+SEQUENCE_LENGTH+OFFSET >= len(numbers): break #<----마지막 순서가 되었을 때 iteration이 멈추도록 하는 장치 \n",
        "  raw_x.append(numbers[i:i+SEQUENCE_LENGTH,:])\n",
        "  raw_y.append(numbers[i+SEQUENCE_LENGTH+OFFSET-1,:])\n",
        "#              0         1              \n",
        "#              01234567890123456789\n",
        "# numbers[0] = 12345678901234567890\n",
        "#                 i = 3\n",
        "#                 <-x->   = [3:8] = 45678\n",
        "#                      y  = [8]   = 9\n",
        "\n"
      ],
      "metadata": {
        "id": "r7NQikGPipTM"
      },
      "execution_count": 140,
      "outputs": []
    },
    {
      "cell_type": "code",
      "source": [
        "print(raw_x[0])\n",
        "print(raw_y[0])\n",
        "print()\n",
        "print(raw_x[1])\n",
        "print(raw_y[1])"
      ],
      "metadata": {
        "colab": {
          "base_uri": "https://localhost:8080/"
        },
        "id": "2dT4KkJrkRbo",
        "outputId": "0eb233b3-6c78-43dd-f133-e59fc14baf81"
      },
      "execution_count": 141,
      "outputs": [
        {
          "output_type": "stream",
          "name": "stdout",
          "text": [
            "[[0.02079489 0.02031037 0.01997058 0.02028816 0.01361739]\n",
            " [0.02011973 0.02239856 0.02054511 0.02192648 0.00946582]\n",
            " [0.02270784 0.02217875 0.02203888 0.02194892 0.00807413]\n",
            " [0.0216951  0.02151932 0.02180907 0.02181426 0.00502651]\n",
            " [0.02192015 0.02140942 0.02192398 0.02147762 0.00136233]\n",
            " [0.02147005 0.0209698  0.02077492 0.02040038 0.00176163]\n",
            " [0.02056983 0.02020047 0.0203153  0.02013107 0.00070465]\n",
            " [0.01978215 0.01943113 0.01974077 0.01927824 0.00066355]\n",
            " [0.02045731 0.02009056 0.02008549 0.01981687 0.00123901]\n",
            " [0.02011973 0.01965094 0.01962587 0.01943534 0.00051087]]\n",
            "[0.0195571  0.01943113 0.01962587 0.01934557 0.00060483]\n",
            "\n",
            "[[0.02011973 0.02239856 0.02054511 0.02192648 0.00946582]\n",
            " [0.02270784 0.02217875 0.02203888 0.02194892 0.00807413]\n",
            " [0.0216951  0.02151932 0.02180907 0.02181426 0.00502651]\n",
            " [0.02192015 0.02140942 0.02192398 0.02147762 0.00136233]\n",
            " [0.02147005 0.0209698  0.02077492 0.02040038 0.00176163]\n",
            " [0.02056983 0.02020047 0.0203153  0.02013107 0.00070465]\n",
            " [0.01978215 0.01943113 0.01974077 0.01927824 0.00066355]\n",
            " [0.02045731 0.02009056 0.02008549 0.01981687 0.00123901]\n",
            " [0.02011973 0.01965094 0.01962587 0.01943534 0.00051087]\n",
            " [0.0195571  0.01943113 0.01962587 0.01934557 0.00060483]]\n",
            "[1.89944641e-02 1.87717062e-02 1.90513394e-02 1.88967189e-02\n",
            " 9.39535048e-05]\n"
          ]
        }
      ]
    },
    {
      "cell_type": "code",
      "source": [
        "x = np.array(raw_x)\n",
        "y = np.array(raw_y)\n",
        "print(x.shape)\n",
        "print(y.shape)\n",
        "\n",
        "from sklearn.model_selection import train_test_split\n",
        "\n",
        "train_x, test_x, train_y, test_y = train_test_split(x, y, test_size=0.1, shuffle=True)\n",
        "\n",
        "\n",
        "print(\"Training Data:\")\n",
        "print(train_x.shape)\n",
        "print(train_y.shape)\n",
        "\n",
        "print(\"Test Data:\")\n",
        "print(test_x.shape)\n",
        "print(test_y.shape)\n"
      ],
      "metadata": {
        "colab": {
          "base_uri": "https://localhost:8080/"
        },
        "id": "EAJWL5bckiLk",
        "outputId": "5d2452f9-49e5-49a0-996c-2ee7efd499e1"
      },
      "execution_count": 142,
      "outputs": [
        {
          "output_type": "stream",
          "name": "stdout",
          "text": [
            "(5170, 10, 5)\n",
            "(5170, 5)\n",
            "Training Data:\n",
            "(4653, 10, 5)\n",
            "(4653, 5)\n",
            "Test Data:\n",
            "(517, 10, 5)\n",
            "(517, 5)\n"
          ]
        }
      ]
    },
    {
      "cell_type": "code",
      "source": [
        "print(\"train_x[0]\\n\", train_x[0])\n",
        "print()\n",
        "print(\"train_y[0]\\n\", train_y[0])\n",
        "\n",
        "plt.plot(train_x[0].T[0], '.', color='blue')\n",
        "plt.plot([len(train_x[0])], train_y[0,0], 'x', color='blue')\n",
        "plt.plot(train_x[0].T[1], '.', color='red')\n",
        "plt.plot([len(train_x[0])], train_y[0,1], 'o', color='red')\n",
        "\n",
        "plt.show()"
      ],
      "metadata": {
        "colab": {
          "base_uri": "https://localhost:8080/",
          "height": 701
        },
        "id": "u_70o6bWknIN",
        "outputId": "4ef5d344-4cc8-4d86-9d09-22cceaa7a1c1"
      },
      "execution_count": null,
      "outputs": [
        {
          "output_type": "stream",
          "name": "stdout",
          "text": [
            "train_x[0]\n",
            " [[6.84160793e-03 7.91313140e-03 6.98625714e-03 8.07935724e-03\n",
            "  1.35058163e-04]\n",
            " [7.06666082e-03 6.90200906e-03 6.82538937e-03 6.66546972e-03\n",
            "  1.23313975e-04]\n",
            " [6.72908149e-03 6.68219985e-03 6.52663496e-03 6.37371516e-03\n",
            "  2.93604702e-05]\n",
            " [6.88661851e-03 6.72616169e-03 7.03221935e-03 6.86745366e-03\n",
            "  0.00000000e+00]\n",
            " [6.05392281e-03 5.91286763e-03 6.18191832e-03 6.03707527e-03\n",
            "  0.00000000e+00]\n",
            " [9.27217917e-03 9.05613927e-03 9.46821691e-03 9.24637551e-03\n",
            "  1.05697693e-04]\n",
            " [9.09213686e-03 9.75952873e-03 9.28436804e-03 9.96454060e-03\n",
            "  1.17441881e-05]\n",
            " [1.02174013e-02 1.15619642e-02 1.04334235e-02 1.18048386e-02\n",
            "  9.98255988e-05]\n",
            " [1.37057212e-02 1.33863806e-02 1.14905545e-02 1.12213295e-02\n",
            "  4.11046583e-05]\n",
            " [1.10050864e-02 1.13861169e-02 1.12377623e-02 1.16252974e-02\n",
            "  1.99651198e-04]]\n",
            "\n",
            "train_y[0]\n",
            " [1.07800336e-02 1.17378116e-02 1.10079512e-02 1.19843799e-02\n",
            " 1.76162821e-05]\n"
          ]
        },
        {
          "output_type": "display_data",
          "data": {
            "image/png": "[encoded data removed]",
            "text/plain": [
              "<Figure size 432x288 with 1 Axes>"
            ]
          },
          "metadata": {
            "needs_background": "light"
          }
        }
      ]
    },
    {
      "cell_type": "code",
      "source": [
        "from tensorflow import keras\n",
        "from tensorflow.keras.layers import Dense, RepeatVector, Flatten\n",
        "from tensorflow.keras.layers import Bidirectional, LSTM, GRU\n",
        "\n",
        "input_shape = train_x.shape[1:]\n",
        "output_shape = train_y.shape[-1]\n",
        "\n",
        "model = keras.Sequential()\n",
        "model.add(LSTM(128, input_shape=input_shape))\n",
        "model.add(Flatten())\n",
        "model.add(Dense(output_shape))\n",
        "model.compile(loss=\"mse\", optimizer=\"adam\", metrics=[\"mape\"])\n",
        "model.summary()\n",
        "\n",
        "history = model.fit(train_x, train_y, epochs=10, verbose=0, validation_split=0.1, batch_size=BATCH_SIZE)\n",
        "\n",
        "\n",
        "plt.plot(history.history['loss'])\n",
        "plt.plot(history.history['val_loss'])\n",
        "plt.show()\n",
        "\n",
        "\n",
        "\n",
        "loss, mape = model.evaluate(test_x, test_y)\n",
        "print(\"loss=\", loss)\n",
        "print(\"mape=\", mape)\n",
        "\n",
        "\n",
        "\n",
        "y_ = model.predict(test_x).squeeze()\n",
        "for i in range(output_shape):\n",
        "    plt.scatter(test_y[:,i], y_[:,i])\n",
        "    plt.show()"
      ],
      "metadata": {
        "colab": {
          "base_uri": "https://localhost:8080/",
          "height": 1000
        },
        "id": "H_DZZN8oj16K",
        "outputId": "8c58d540-5b6d-4937-b21d-03ffd5b7d054"
      },
      "execution_count": 143,
      "outputs": [
        {
          "output_type": "stream",
          "name": "stdout",
          "text": [
            "Model: \"sequential_1\"\n",
            "_________________________________________________________________\n",
            " Layer (type)                Output Shape              Param #   \n",
            "=================================================================\n",
            " lstm_1 (LSTM)               (None, 128)               68608     \n",
            "                                                                 \n",
            " flatten_1 (Flatten)         (None, 128)               0         \n",
            "                                                                 \n",
            " dense_1 (Dense)             (None, 5)                 645       \n",
            "                                                                 \n",
            "=================================================================\n",
            "Total params: 69,253\n",
            "Trainable params: 69,253\n",
            "Non-trainable params: 0\n",
            "_________________________________________________________________\n"
          ]
        },
        {
          "output_type": "display_data",
          "data": {
            "image/png": "[encoded data removed]",
            "text/plain": [
              "<Figure size 432x288 with 1 Axes>"
            ]
          },
          "metadata": {
            "needs_background": "light"
          }
        },
        {
          "output_type": "stream",
          "name": "stdout",
          "text": [
            "17/17 [==============================] - 0s 4ms/step - loss: 6.5672e-04 - mape: 175950.4844\n",
            "loss= 0.0006567245000042021\n",
            "mape= 175950.484375\n"
          ]
        },
        {
          "output_type": "display_data",
          "data": {
            "image/png": "[encoded data removed]",
            "text/plain": [
              "<Figure size 432x288 with 1 Axes>"
            ]
          },
          "metadata": {
            "needs_background": "light"
          }
        },
        {
          "output_type": "display_data",
          "data": {
            "image/png": "[encoded data removed]",
            "text/plain": [
              "<Figure size 432x288 with 1 Axes>"
            ]
          },
          "metadata": {
            "needs_background": "light"
          }
        },
        {
          "output_type": "display_data",
          "data": {
            "image/png": "[encoded data removed]",
            "text/plain": [
              "<Figure size 432x288 with 1 Axes>"
            ]
          },
          "metadata": {
            "needs_background": "light"
          }
        },
        {
          "output_type": "display_data",
          "data": {
            "image/png": "[encoded data removed]",
            "text/plain": [
              "<Figure size 432x288 with 1 Axes>"
            ]
          },
          "metadata": {
            "needs_background": "light"
          }
        },
        {
          "output_type": "display_data",
          "data": {
            "image/png": "[encoded data removed]",
            "text/plain": [
              "<Figure size 432x288 with 1 Axes>"
            ]
          },
          "metadata": {
            "needs_background": "light"
          }
        }
      ]
    },
    {
      "cell_type": "code",
      "source": [
        "plt.plot(test_y[0], 'b.')\n",
        "plt.plot(y_[0], 'r.')\n",
        "plt.show()\n",
        "\n",
        "plt.plot(test_y[0,:-1], 'b.')\n",
        "plt.plot(y_[0,:-1], 'r.')\n",
        "plt.show()"
      ],
      "metadata": {
        "colab": {
          "base_uri": "https://localhost:8080/",
          "height": 513
        },
        "id": "JglbgKh6mB9R",
        "outputId": "67758837-8fb8-422b-dc49-cc9880c2ed2c"
      },
      "execution_count": null,
      "outputs": [
        {
          "output_type": "display_data",
          "data": {
            "image/png": "[encoded data removed]",
            "text/plain": [
              "<Figure size 432x288 with 1 Axes>"
            ]
          },
          "metadata": {
            "needs_background": "light"
          }
        },
        {
          "output_type": "display_data",
          "data": {
            "image/png": "[encoded data removed]",
            "text/plain": [
              "<Figure size 432x288 with 1 Axes>"
            ]
          },
          "metadata": {
            "needs_background": "light"
          }
        }
      ]
    },
    {
      "cell_type": "code",
      "source": [
        "denomalized_test_y = test_y * (maxs - mins) + mins\n",
        "denomalized_y_ = y_ * (maxs - mins) + mins"
      ],
      "metadata": {
        "id": "uAK9LDzBoFd4"
      },
      "execution_count": null,
      "outputs": []
    },
    {
      "cell_type": "code",
      "source": [
        "plt.plot(denomalized_test_y[0], 'b.')\n",
        "plt.plot(denomalized_y_[0], 'r.')\n",
        "plt.show()\n",
        "\n",
        "plt.plot(denomalized_test_y[0,:-1], 'b.')\n",
        "plt.plot(denomalized_y_[0,:-1], 'r.')\n",
        "plt.show()"
      ],
      "metadata": {
        "colab": {
          "base_uri": "https://localhost:8080/",
          "height": 513
        },
        "id": "53IqHJvtoQjk",
        "outputId": "12455065-e591-459f-ffcd-9f4f6bf0a9ba"
      },
      "execution_count": null,
      "outputs": [
        {
          "output_type": "display_data",
          "data": {
            "image/png": "[encoded data removed]",
            "text/plain": [
              "<Figure size 432x288 with 1 Axes>"
            ]
          },
          "metadata": {
            "needs_background": "light"
          }
        },
        {
          "output_type": "display_data",
          "data": {
            "image/png": "[encoded data removed]",
            "text/plain": [
              "<Figure size 432x288 with 1 Axes>"
            ]
          },
          "metadata": {
            "needs_background": "light"
          }
        }
      ]
    },
    {
      "cell_type": "markdown",
      "source": [
        "# 분류 "
      ],
      "metadata": {
        "id": "t1r4JRNIQsqR"
      }
    },
    {
      "cell_type": "code",
      "execution_count": 144,
      "metadata": {
        "id": "xq6MxZt4QwO4"
      },
      "outputs": [],
      "source": [
        "numbers = preprocessed"
      ]
    },
    {
      "cell_type": "code",
      "execution_count": 146,
      "metadata": {
        "id": "MqvsSti8QwO4"
      },
      "outputs": [],
      "source": [
        "raw_x = []\n",
        "raw_y = []\n",
        "\n",
        "for j in range(len(numbers)):\n",
        "  i = np.random.randint(len(numbers)-SEQUENCE_LENGTH-OFFSET)\n",
        "  if i+SEQUENCE_LENGTH+OFFSET >= len(numbers): break\n",
        "  raw_x.append(numbers[i:i+SEQUENCE_LENGTH,:])\n",
        "#   raw_y.append(numbers[i+SEQUENCE_LENGTH+OFFSET-1,:])\n",
        "  current_price = numbers[i+SEQUENCE_LENGTH-1,:][3]    #<-------------이 부분부터 차이가 남 \n",
        "  future_price = numbers[i+SEQUENCE_LENGTH+OFFSET-1,:][3]\n",
        "  raw_y.append(int(future_price > current_price)) #<----- current_price와 future_price를 sampling해서 비교 함, 비교했을 때 미래 가격이 현재보다 올랐을 경우1, 작을 경우0으로 분류 \n"
      ]
    },
    {
      "cell_type": "code",
      "execution_count": 147,
      "metadata": {
        "colab": {
          "base_uri": "https://localhost:8080/"
        },
        "outputId": "8b463cf1-2733-477a-9e12-3d35fd37d4fa",
        "id": "ZwG_0zNJQwO4"
      },
      "outputs": [
        {
          "output_type": "stream",
          "name": "stdout",
          "text": [
            "[[7.45825286e-02 7.28447707e-02 7.57227542e-02 7.39485614e-02\n",
            "  1.17441881e-05]\n",
            " [7.11392193e-02 6.94816899e-02 7.26432855e-02 7.09412451e-02\n",
            "  7.63372226e-04]\n",
            " [7.09591770e-02 6.94816899e-02 7.24594367e-02 7.09412451e-02\n",
            "  1.17441881e-05]\n",
            " [7.35022747e-02 7.17896866e-02 7.50563020e-02 7.32977243e-02\n",
            "  0.00000000e+00]\n",
            " [7.40649069e-02 7.23392096e-02 7.56308297e-02 7.38587908e-02\n",
            "  0.00000000e+00]\n",
            " [6.70882673e-02 6.55251242e-02 6.85066859e-02 6.69015665e-02\n",
            "  0.00000000e+00]\n",
            " [7.01939972e-02 6.85584912e-02 7.16780790e-02 6.99986534e-02\n",
            "  0.00000000e+00]\n",
            " [7.52801925e-02 7.35261793e-02 7.68718096e-02 7.50706944e-02\n",
            "  0.00000000e+00]\n",
            " [7.80258378e-02 7.62078516e-02 7.96755049e-02 7.78086988e-02\n",
            "  0.00000000e+00]\n",
            " [7.76657532e-02 7.58561569e-02 7.93078072e-02 7.74496162e-02\n",
            "  0.00000000e+00]]\n",
            "1\n",
            "\n",
            "[[0.01314309 0.01283686 0.01342097 0.01310651 0.        ]\n",
            " [0.01453842 0.01419967 0.0148458  0.01449796 0.        ]\n",
            " [0.01370572 0.01338638 0.0139955  0.01366758 0.        ]\n",
            " [0.01442589 0.01408977 0.01473089 0.01438574 0.        ]\n",
            " [0.01269298 0.01239724 0.01296135 0.01265766 0.        ]\n",
            " [0.01240041 0.01211149 0.01266259 0.01236591 0.        ]\n",
            " [0.00965477 0.00942981 0.0098589  0.0096279  0.        ]\n",
            " [0.0102174  0.00997934 0.01043342 0.01018897 0.        ]\n",
            " [0.01044245 0.01019915 0.01066323 0.01041339 0.        ]\n",
            " [0.00846199 0.00826483 0.0086409  0.00843844 0.        ]]\n",
            "1\n"
          ]
        }
      ],
      "source": [
        "print(raw_x[0])\n",
        "print(raw_y[0])\n",
        "print()\n",
        "print(raw_x[1])\n",
        "print(raw_y[1])"
      ]
    },
    {
      "cell_type": "code",
      "execution_count": 148,
      "metadata": {
        "colab": {
          "base_uri": "https://localhost:8080/"
        },
        "outputId": "077eea3d-8693-4c44-effb-f9b1d2930c23",
        "id": "T3VebOj9QwO5"
      },
      "outputs": [
        {
          "output_type": "stream",
          "name": "stdout",
          "text": [
            "(5181, 10, 5)\n",
            "(5181,)\n",
            "Training Data:\n",
            "(4662, 10, 5)\n",
            "(4662,)\n",
            "Test Data:\n",
            "(519, 10, 5)\n",
            "(519,)\n"
          ]
        }
      ],
      "source": [
        "x = np.array(raw_x)\n",
        "y = np.array(raw_y)\n",
        "print(x.shape)\n",
        "print(y.shape)\n",
        "\n",
        "from sklearn.model_selection import train_test_split\n",
        "\n",
        "train_x, test_x, train_y, test_y = train_test_split(x, y, test_size=0.1, shuffle=True)\n",
        "\n",
        "\n",
        "print(\"Training Data:\")\n",
        "print(train_x.shape)\n",
        "print(train_y.shape)\n",
        "\n",
        "print(\"Test Data:\")\n",
        "print(test_x.shape)\n",
        "print(test_y.shape)\n"
      ]
    },
    {
      "cell_type": "code",
      "execution_count": null,
      "metadata": {
        "colab": {
          "base_uri": "https://localhost:8080/",
          "height": 466
        },
        "outputId": "c60edc70-ae7d-42d1-ca26-52f9675ea3e4",
        "id": "4ZRzf46oQwO5"
      },
      "outputs": [
        {
          "output_type": "stream",
          "name": "stdout",
          "text": [
            "train_x[0]\n",
            " [[0.2317516  0.22680157 0.23222338 ... 0.006239   0.35227348 0.23039198]\n",
            " [0.23163265 0.22668187 0.23207831 ... 0.03813394 0.46914731 0.23036651]\n",
            " [0.23126276 0.22630965 0.2317107  ... 0.12277053 0.55983252 0.22986786]\n",
            " ...\n",
            " [0.23238109 0.2278712  0.233097   ... 0.04113552 0.47462519 0.23158357]\n",
            " [0.23238109 0.22760137 0.233097   ... 0.00505604 0.33943421 0.2313043 ]\n",
            " [0.23238109 0.22762851 0.233097   ... 0.25550556 0.63891288 0.23117628]]\n",
            "\n",
            "train_y[0]\n",
            " 0\n"
          ]
        },
        {
          "output_type": "display_data",
          "data": {
            "image/png": "[encoded data removed]",
            "text/plain": [
              "<Figure size 432x288 with 1 Axes>"
            ]
          },
          "metadata": {
            "needs_background": "light"
          }
        }
      ],
      "source": [
        "print(\"train_x[0]\\n\", train_x[0])\n",
        "print()\n",
        "print(\"train_y[0]\\n\", train_y[0])\n",
        "\n",
        "plt.plot(train_x[0].T[0], '.', color='blue')\n",
        "# plt.plot([len(train_x[0])], train_y[0,0], 'x', color='blue')\n",
        "\n",
        "plt.show()"
      ]
    },
    {
      "cell_type": "markdown",
      "metadata": {
        "id": "cFsRnw59yV3c"
      },
      "source": [
        "## 학습"
      ]
    },
    {
      "cell_type": "code",
      "execution_count": 149,
      "metadata": {
        "colab": {
          "base_uri": "https://localhost:8080/",
          "height": 1000
        },
        "outputId": "a7693bbc-db79-48a6-ad74-b868ba3bbbc7",
        "id": "b1rZ9h22QwO5"
      },
      "outputs": [
        {
          "output_type": "stream",
          "name": "stdout",
          "text": [
            "Model: \"sequential_2\"\n",
            "_________________________________________________________________\n",
            " Layer (type)                Output Shape              Param #   \n",
            "=================================================================\n",
            " lstm_2 (LSTM)               (None, 128)               68608     \n",
            "                                                                 \n",
            " flatten_2 (Flatten)         (None, 128)               0         \n",
            "                                                                 \n",
            " dense_2 (Dense)             (None, 10)                1290      \n",
            "                                                                 \n",
            " dense_3 (Dense)             (None, 2)                 22        \n",
            "                                                                 \n",
            "=================================================================\n",
            "Total params: 69,920\n",
            "Trainable params: 69,920\n",
            "Non-trainable params: 0\n",
            "_________________________________________________________________\n",
            "Epoch 1/10\n",
            "132/132 [==============================] - 4s 15ms/step - loss: 0.6923 - acc: 0.5354 - val_loss: 0.6938 - val_acc: 0.5118\n",
            "Epoch 2/10\n",
            "132/132 [==============================] - 1s 11ms/step - loss: 0.6912 - acc: 0.5354 - val_loss: 0.6936 - val_acc: 0.5118\n",
            "Epoch 3/10\n",
            "132/132 [==============================] - 1s 11ms/step - loss: 0.6907 - acc: 0.5349 - val_loss: 0.6952 - val_acc: 0.5118\n",
            "Epoch 4/10\n",
            "132/132 [==============================] - 1s 11ms/step - loss: 0.6910 - acc: 0.5354 - val_loss: 0.6936 - val_acc: 0.5118\n",
            "Epoch 5/10\n",
            "132/132 [==============================] - 1s 11ms/step - loss: 0.6910 - acc: 0.5354 - val_loss: 0.6938 - val_acc: 0.5118\n",
            "Epoch 6/10\n",
            "132/132 [==============================] - 1s 11ms/step - loss: 0.6907 - acc: 0.5354 - val_loss: 0.6934 - val_acc: 0.5118\n",
            "Epoch 7/10\n",
            "132/132 [==============================] - 1s 11ms/step - loss: 0.6910 - acc: 0.5354 - val_loss: 0.6943 - val_acc: 0.5118\n",
            "Epoch 8/10\n",
            "132/132 [==============================] - 1s 11ms/step - loss: 0.6906 - acc: 0.5354 - val_loss: 0.6946 - val_acc: 0.5118\n",
            "Epoch 9/10\n",
            "132/132 [==============================] - 1s 11ms/step - loss: 0.6906 - acc: 0.5354 - val_loss: 0.6953 - val_acc: 0.5118\n",
            "Epoch 10/10\n",
            "132/132 [==============================] - 1s 11ms/step - loss: 0.6906 - acc: 0.5354 - val_loss: 0.6942 - val_acc: 0.5118\n"
          ]
        },
        {
          "output_type": "display_data",
          "data": {
            "image/png": "[encoded data removed]",
            "text/plain": [
              "<Figure size 432x288 with 1 Axes>"
            ]
          },
          "metadata": {
            "needs_background": "light"
          }
        },
        {
          "output_type": "stream",
          "name": "stdout",
          "text": [
            "17/17 [==============================] - 0s 5ms/step - loss: 0.6887 - acc: 0.5453\n",
            "loss= 0.6886987090110779\n",
            "acc= 0.5452793836593628\n"
          ]
        },
        {
          "output_type": "display_data",
          "data": {
            "image/png": "[encoded data removed]",
            "text/plain": [
              "<Figure size 432x288 with 1 Axes>"
            ]
          },
          "metadata": {
            "needs_background": "light"
          }
        }
      ],
      "source": [
        "from tensorflow import keras\n",
        "from tensorflow.keras.layers import Dense, RepeatVector, Flatten\n",
        "from tensorflow.keras.layers import Bidirectional, LSTM, GRU\n",
        "\n",
        "input_shape = train_x.shape[1:]\n",
        "output_shape = train_y.shape[-1]\n",
        "\n",
        "model = keras.Sequential()\n",
        "model.add(LSTM(128, input_shape=input_shape))\n",
        "model.add(Flatten())\n",
        "model.add(Dense(10, activation=\"relu\"))\n",
        "# model.add(Dense(output_shape))\n",
        "model.add(Dense(2, activation=\"softmax\"))\n",
        "# model.compile(loss=\"mse\", optimizer=\"adam\", metrics=[\"mape\"])\n",
        "model.compile(loss=\"sparse_categorical_crossentropy\", optimizer=\"adam\", metrics=[\"acc\"])\n",
        "model.summary()\n",
        "\n",
        "history = model.fit(train_x, train_y, epochs=10, verbose=1, validation_split=0.1, batch_size=BATCH_SIZE)\n",
        "\n",
        "\n",
        "plt.plot(history.history['loss'])\n",
        "plt.plot(history.history['val_loss'])\n",
        "plt.show()\n",
        "\n",
        "\n",
        "\n",
        "# loss, mape = model.evaluate(test_x, test_y)\n",
        "# print(\"loss=\", loss)\n",
        "# print(\"mape=\", mape)\n",
        "loss, acc = model.evaluate(test_x, test_y)\n",
        "print(\"loss=\", loss)\n",
        "print(\"acc=\", acc)\n",
        "\n",
        "\n",
        "# y_ = model.predict(test_x).squeeze()\n",
        "# for i in range(output_shape):\n",
        "#     plt.scatter(test_y[:,i], y_[:,i])\n",
        "#     plt.show()\n",
        "y_ = model.predict(test_x)\n",
        "predicted = np.argmax(y_, axis=-1)\n",
        "plt.plot(test_y[:30], 'o')\n",
        "plt.plot(predicted[:30], ',')\n",
        "plt.show()"
      ]
    },
    {
      "cell_type": "markdown",
      "source": [
        "# by Keras Sequence Data Generator"
      ],
      "metadata": {
        "id": "VxPXZ2m106W7"
      }
    },
    {
      "cell_type": "markdown",
      "source": [
        "- 이미지를 사용할 경우 데이터 제너레이터를 사용 해야 함 -> 매우 큰 용량 때문에 \n",
        "- 이미지가 아닌 속성 데이터로 제너레이터를 사용할 경우 데이터를 분할하는 경우가 데이터에 따라 다르므로 _generator Data부분을 직접 수정 하여 사용 "
      ],
      "metadata": {
        "id": "FpZruV6NSfgK"
      }
    },
    {
      "cell_type": "code",
      "source": [
        "from tensorflow.keras.utils import Sequence\n",
        "\n",
        "class DataGenerator(Sequence):\n",
        "\n",
        "    def __init__(self, numbers, \n",
        "                 sequence_length=SEQUENCE_LENGTH, \n",
        "                 offset=OFFSET, \n",
        "                 batch_size=BATCH_SIZE, \n",
        "                 shuffle=True,\n",
        "                 validation_split=0.0,\n",
        "                 test_split=0.0,\n",
        "                 indexes=None):\n",
        "        self.numbers = numbers\n",
        "        self.sequence_length = sequence_length\n",
        "        self.offset = offset\n",
        "        self.batch_size = batch_size\n",
        "        self.shuffle = shuffle\n",
        "        self.indexes, self.valid_indexes, self.test_indexes = self._prepare_indexes(validation_split, test_split, indexes)\n",
        "\n",
        "    def __len__(self):\n",
        "        return int(np.floor(len(self.indexes) / self.batch_size))\n",
        "\n",
        "    def __getitem__(self, index):\n",
        "        indexes = self.indexes[index*self.batch_size:(index+1)*self.batch_size]\n",
        "        return self._generate_data(indexes)\n",
        "\n",
        "    def on_epoch_end(self):\n",
        "        self._shuffle_index()\n",
        "\n",
        "    def _prepare_indexes(self, validation_split, test_split, indexes):\n",
        "        if indexes is not None:\n",
        "            return indexes, None, None\n",
        "\n",
        "        data_count = len(self.numbers) - (self.sequence_length+self.offset) + 1\n",
        "        all_index = np.arange(data_count)\n",
        "        np.random.shuffle(all_index)\n",
        "        if validation_split+test_split==0.0:\n",
        "            return all_index, None, None\n",
        "\n",
        "        valid_i = int(len(all_index)*(1-validation_split-test_split))\n",
        "        test_i = int(len(all_index)*(1-test_split))\n",
        "\n",
        "        return all_index[:valid_i], all_index[valid_i:test_i], all_index[test_i:]\n",
        "        \n",
        "    def _shuffle_index(self):\n",
        "        if self.shuffle == True:\n",
        "            np.random.shuffle(self.indexes)\n",
        "\n",
        "    def _generate_data(self, indexes):\n",
        "        X = np.empty((len(indexes), self.sequence_length, self.numbers.shape[-1]))\n",
        "        \n",
        "\n",
        "        # for i, index in enumerate(indexes): #<---------일반적인 경우 \n",
        "        #     X[i] = self.numbers[index:index+self.sequence_length]     \n",
        "        #     Y[i] = self.numbers[index+self.sequence_length+self.offset-1]\n",
        "        # return X, Y\n",
        "\n",
        "\n",
        "        Y = np.empty((len(indexes), self.numbers.shape[-1]))\n",
        "\n",
        "        for i, index in enumerate(indexes):  #<------예측 문제의 경우 \n",
        "          if i+SEQUENCE_LENGTH+OFFSET >= len(indexes): break #<----마지막 순서가 되었을 때 iteration이 멈추도록 하는 장치\n",
        "          X[i] = self.numbers[i:i+SEQUENCE_LENGTH,:]     \n",
        "          Y[i] = self.numbers[i+SEQUENCE_LENGTH+OFFSET-1,:]\n",
        "        return X, Y\n",
        "\n",
        "        # Y = np.empty((len(indexes), 1))\n",
        "\n",
        "        # for i, index in enumerate(indexes): #<---------분류 문제의 경우  \n",
        "        #   if i+SEQUENCE_LENGTH+OFFSET >= len(indexes): break #<----마지막 순서가 되었을 때 iteration이 멈추도록 하는 장치\n",
        "        #   X[i] = self.numbers[i:i+SEQUENCE_LENGTH,:]     \n",
        "        #   current_price = numbers[i+SEQUENCE_LENGTH-1,3]    #<-------------이 부분부터 차이가 남 \n",
        "        #   future_price = numbers[i+SEQUENCE_LENGTH+OFFSET,3]\n",
        "        #   if future_price>current_price:\n",
        "        #     Y[i]=1\n",
        "        #   else:\n",
        "        #     Y[i]=0\n",
        "        #   # Y[i] = int(future_price > current_price)\n",
        "        # return X, Y\n",
        "       \n",
        "      \n",
        "    def get_all_data(self):\n",
        "        return self._generate_data(self.indexes)        \n",
        "\n",
        "    def subset(self, type):\n",
        "        if type==\"train\":\n",
        "            return DataGenerator(self.numbers, indexes=self.indexes)\n",
        "        elif type==\"validation\" or type==\"valid\":\n",
        "            return DataGenerator(self.numbers, indexes=self.valid_indexes)\n",
        "        elif type==\"test\":\n",
        "            return DataGenerator(self.numbers, indexes=self.test_indexes)\n",
        "        else:\n",
        "            print(\"invalid type {}\".format(type))\n",
        "\n",
        "# 제너레이터 분류 부분 -> y값이 0 또는 1로 되어야 하므로 Y가 바뀌어야 하는 거 아닌가? 그런데 바꾸려고 하니까 indexes 쪽에 문제가 생김, 알고보니 Y[i]를 넣을 때 5개를 넣었고 0과 1만 들어가게 바꿈\n",
        "#그랬더니 이번엔 배치로 나올 때 0과1이 아닌 이상한 값들이 나옴"
      ],
      "metadata": {
        "id": "BoYqpgU-oTg1"
      },
      "execution_count": 160,
      "outputs": []
    },
    {
      "cell_type": "code",
      "source": [
        "np.empty((100,2)).shape"
      ],
      "metadata": {
        "colab": {
          "base_uri": "https://localhost:8080/"
        },
        "id": "t8LK3iHZbNMG",
        "outputId": "b8d98705-a951-46fc-dbae-097b2025facc"
      },
      "execution_count": 112,
      "outputs": [
        {
          "output_type": "execute_result",
          "data": {
            "text/plain": [
              "(100, 2)"
            ]
          },
          "metadata": {},
          "execution_count": 112
        }
      ]
    },
    {
      "cell_type": "code",
      "source": [
        "data_generator = DataGenerator(numbers, validation_split=0.1, test_split=0.1)\n",
        "train_data_generator = data_generator.subset(\"train\")\n",
        "valid_data_generator = data_generator.subset(\"valid\")\n",
        "test_data_generator = data_generator.subset(\"test\")\n",
        "\n",
        "batch_x, batch_y = train_data_generator.__getitem__(1)\n",
        "print(batch_x.shape)\n",
        "print(batch_y.shape)\n",
        "# print(batch_x[0])\n",
        "# print(batch_y[0])\n",
        "\n",
        "# print(len(preprocessed)-(SEQUENCE_LENGTH+OFFSET)+1)\n",
        "# print(len(train_data_generator.indexes))\n",
        "# print(len(valid_data_generator.indexes))\n",
        "# print(len(test_data_generator.indexes))"
      ],
      "metadata": {
        "colab": {
          "base_uri": "https://localhost:8080/"
        },
        "id": "syHJzNvixQ-y",
        "outputId": "39215ca0-3025-4b07-c7f3-c0c63187709a"
      },
      "execution_count": 161,
      "outputs": [
        {
          "output_type": "stream",
          "name": "stdout",
          "text": [
            "(32, 10, 5)\n",
            "(32, 5)\n"
          ]
        }
      ]
    },
    {
      "cell_type": "markdown",
      "source": [
        "## 예측의 경우 "
      ],
      "metadata": {
        "id": "AqihvQxrdfYB"
      }
    },
    {
      "cell_type": "code",
      "source": [
        "from tensorflow import keras\n",
        "from tensorflow.keras.layers import Dense, RepeatVector, Flatten\n",
        "from tensorflow.keras.layers import Bidirectional, LSTM, GRU\n",
        "\n",
        "input_shape = (SEQUENCE_LENGTH, preprocessed.shape[-1])\n",
        "output_shape = preprㅋ`ocessed.shape[-1]\n",
        "\n",
        "model = keras.Sequential()\n",
        "model.add(LSTM(128, input_shape=input_shape))\n",
        "model.add(Flatten())\n",
        "model.add(Dense(output_shape))\n",
        "model.compile(loss=\"mse\", optimizer=\"adam\", metrics=[\"mape\"])\n",
        "model.summary()\n",
        "\n",
        "history = model.fit(train_data_generator, epochs=10, verbose=0, validation_data=valid_data_generator)\n",
        "\n",
        "\n",
        "plt.plot(history.history['loss'])\n",
        "plt.plot(history.history['val_loss'])\n",
        "plt.show()\n",
        "\n",
        "\n",
        "\n",
        "loss, mape = model.evaluate(test_data_generator)\n",
        "print(\"loss=\", loss)\n",
        "print(\"mape=\", mape)\n",
        "\n",
        "\n",
        "batch_x, batch_y = test_data_generator.get_all_data()\n",
        "y_ = model.predict(batch_x).squeeze()\n",
        "for i in range(output_shape):\n",
        "    plt.scatter(batch_y[:,i], y_[:,i])\n",
        "    plt.show()"
      ],
      "metadata": {
        "colab": {
          "base_uri": "https://localhost:8080/",
          "height": 1000
        },
        "id": "7LSyMSgzzS3E",
        "outputId": "312cfaf6-8036-4844-919a-1049086b7e3d"
      },
      "execution_count": 163,
      "outputs": [
        {
          "output_type": "stream",
          "name": "stdout",
          "text": [
            "Model: \"sequential_5\"\n",
            "_________________________________________________________________\n",
            " Layer (type)                Output Shape              Param #   \n",
            "=================================================================\n",
            " lstm_5 (LSTM)               (None, 128)               68608     \n",
            "                                                                 \n",
            " flatten_5 (Flatten)         (None, 128)               0         \n",
            "                                                                 \n",
            " dense_6 (Dense)             (None, 5)                 645       \n",
            "                                                                 \n",
            "=================================================================\n",
            "Total params: 69,253\n",
            "Trainable params: 69,253\n",
            "Non-trainable params: 0\n",
            "_________________________________________________________________\n"
          ]
        },
        {
          "output_type": "display_data",
          "data": {
            "image/png": "[encoded data removed]",
            "text/plain": [
              "<Figure size 432x288 with 1 Axes>"
            ]
          },
          "metadata": {
            "needs_background": "light"
          }
        },
        {
          "output_type": "stream",
          "name": "stdout",
          "text": [
            "16/16 [==============================] - 0s 4ms/step - loss: nan - mape: nan\n",
            "loss= nan\n",
            "mape= nan\n"
          ]
        },
        {
          "output_type": "display_data",
          "data": {
            "image/png": "[encoded data removed]",
            "text/plain": [
              "<Figure size 432x288 with 1 Axes>"
            ]
          },
          "metadata": {
            "needs_background": "light"
          }
        },
        {
          "output_type": "display_data",
          "data": {
            "image/png": "[encoded data removed]",
            "text/plain": [
              "<Figure size 432x288 with 1 Axes>"
            ]
          },
          "metadata": {
            "needs_background": "light"
          }
        },
        {
          "output_type": "display_data",
          "data": {
            "image/png": "[encoded data removed]",
            "text/plain": [
              "<Figure size 432x288 with 1 Axes>"
            ]
          },
          "metadata": {
            "needs_background": "light"
          }
        },
        {
          "output_type": "display_data",
          "data": {
            "image/png": "[encoded data removed]",
            "text/plain": [
              "<Figure size 432x288 with 1 Axes>"
            ]
          },
          "metadata": {
            "needs_background": "light"
          }
        },
        {
          "output_type": "display_data",
          "data": {
            "image/png": "[encoded data removed]",
            "text/plain": [
              "<Figure size 432x288 with 1 Axes>"
            ]
          },
          "metadata": {
            "needs_background": "light"
          }
        }
      ]
    },
    {
      "cell_type": "markdown",
      "source": [
        "## 분류의 경우 "
      ],
      "metadata": {
        "id": "nM0TmqsOdg-P"
      }
    },
    {
      "cell_type": "code",
      "source": [
        "from tensorflow import keras\n",
        "from tensorflow.keras.layers import Dense, RepeatVector, Flatten\n",
        "from tensorflow.keras.layers import Bidirectional, LSTM, GRU\n",
        "\n",
        "input_shape = (SEQUENCE_LENGTH, preprocessed.shape[-1])\n",
        "output_shape = preprocessed.shape[-1]\n",
        "\n",
        "model = keras.Sequential()\n",
        "model.add(LSTM(128, input_shape=input_shape))\n",
        "model.add(Flatten())\n",
        "model.add(Dense(output_shape))\n",
        "model.compile(loss=\"sparse_categorical_crossentropy\", optimizer=\"adam\", metrics=[\"accuracy\"])\n",
        "model.summary()\n",
        "\n",
        "history = model.fit(train_data_generator, epochs=10, verbose=0, validation_data=valid_data_generator)\n",
        "\n",
        "\n",
        "plt.plot(history.history['loss'])\n",
        "plt.plot(history.history['val_loss'])\n",
        "plt.show()\n",
        "\n",
        "\n",
        "\n",
        "loss, acc = model.evaluate(test_data_generator)\n",
        "print(\"loss=\", loss)\n",
        "print(\"acc=\", acc)\n",
        "\n",
        "\n",
        "batch_x, batch_y = test_data_generator.get_all_data()\n",
        "y_ = model.predict(batch_x).squeeze()\n",
        "for i in range(output_shape):\n",
        "    plt.scatter(batch_y[:,i], y_[:,i])\n",
        "    plt.show()"
      ],
      "metadata": {
        "colab": {
          "base_uri": "https://localhost:8080/",
          "height": 1000
        },
        "id": "WYNSCPJzdhnv",
        "outputId": "24262b73-dd80-454f-92a7-131ad03b1a76"
      },
      "execution_count": 164,
      "outputs": [
        {
          "output_type": "stream",
          "name": "stdout",
          "text": [
            "Model: \"sequential_6\"\n",
            "_________________________________________________________________\n",
            " Layer (type)                Output Shape              Param #   \n",
            "=================================================================\n",
            " lstm_6 (LSTM)               (None, 128)               68608     \n",
            "                                                                 \n",
            " flatten_6 (Flatten)         (None, 128)               0         \n",
            "                                                                 \n",
            " dense_7 (Dense)             (None, 5)                 645       \n",
            "                                                                 \n",
            "=================================================================\n",
            "Total params: 69,253\n",
            "Trainable params: 69,253\n",
            "Non-trainable params: 0\n",
            "_________________________________________________________________\n"
          ]
        },
        {
          "output_type": "error",
          "ename": "InvalidArgumentError",
          "evalue": "ignored",
          "traceback": [
            "\u001b[0;31m---------------------------------------------------------------------------\u001b[0m",
            "\u001b[0;31mInvalidArgumentError\u001b[0m                      Traceback (most recent call last)",
            "\u001b[0;32m<ipython-input-164-3fabee69b42f>\u001b[0m in \u001b[0;36m<module>\u001b[0;34m()\u001b[0m\n\u001b[1;32m     13\u001b[0m \u001b[0mmodel\u001b[0m\u001b[0;34m.\u001b[0m\u001b[0msummary\u001b[0m\u001b[0;34m(\u001b[0m\u001b[0;34m)\u001b[0m\u001b[0;34m\u001b[0m\u001b[0;34m\u001b[0m\u001b[0m\n\u001b[1;32m     14\u001b[0m \u001b[0;34m\u001b[0m\u001b[0m\n\u001b[0;32m---> 15\u001b[0;31m \u001b[0mhistory\u001b[0m \u001b[0;34m=\u001b[0m \u001b[0mmodel\u001b[0m\u001b[0;34m.\u001b[0m\u001b[0mfit\u001b[0m\u001b[0;34m(\u001b[0m\u001b[0mtrain_data_generator\u001b[0m\u001b[0;34m,\u001b[0m \u001b[0mepochs\u001b[0m\u001b[0;34m=\u001b[0m\u001b[0;36m10\u001b[0m\u001b[0;34m,\u001b[0m \u001b[0mverbose\u001b[0m\u001b[0;34m=\u001b[0m\u001b[0;36m0\u001b[0m\u001b[0;34m,\u001b[0m \u001b[0mvalidation_data\u001b[0m\u001b[0;34m=\u001b[0m\u001b[0mvalid_data_generator\u001b[0m\u001b[0;34m)\u001b[0m\u001b[0;34m\u001b[0m\u001b[0;34m\u001b[0m\u001b[0m\n\u001b[0m\u001b[1;32m     16\u001b[0m \u001b[0;34m\u001b[0m\u001b[0m\n\u001b[1;32m     17\u001b[0m \u001b[0;34m\u001b[0m\u001b[0m\n",
            "\u001b[0;32m/usr/local/lib/python3.7/dist-packages/keras/utils/traceback_utils.py\u001b[0m in \u001b[0;36merror_handler\u001b[0;34m(*args, **kwargs)\u001b[0m\n\u001b[1;32m     65\u001b[0m     \u001b[0;32mexcept\u001b[0m \u001b[0mException\u001b[0m \u001b[0;32mas\u001b[0m \u001b[0me\u001b[0m\u001b[0;34m:\u001b[0m  \u001b[0;31m# pylint: disable=broad-except\u001b[0m\u001b[0;34m\u001b[0m\u001b[0;34m\u001b[0m\u001b[0m\n\u001b[1;32m     66\u001b[0m       \u001b[0mfiltered_tb\u001b[0m \u001b[0;34m=\u001b[0m \u001b[0m_process_traceback_frames\u001b[0m\u001b[0;34m(\u001b[0m\u001b[0me\u001b[0m\u001b[0;34m.\u001b[0m\u001b[0m__traceback__\u001b[0m\u001b[0;34m)\u001b[0m\u001b[0;34m\u001b[0m\u001b[0;34m\u001b[0m\u001b[0m\n\u001b[0;32m---> 67\u001b[0;31m       \u001b[0;32mraise\u001b[0m \u001b[0me\u001b[0m\u001b[0;34m.\u001b[0m\u001b[0mwith_traceback\u001b[0m\u001b[0;34m(\u001b[0m\u001b[0mfiltered_tb\u001b[0m\u001b[0;34m)\u001b[0m \u001b[0;32mfrom\u001b[0m \u001b[0;32mNone\u001b[0m\u001b[0;34m\u001b[0m\u001b[0;34m\u001b[0m\u001b[0m\n\u001b[0m\u001b[1;32m     68\u001b[0m     \u001b[0;32mfinally\u001b[0m\u001b[0;34m:\u001b[0m\u001b[0;34m\u001b[0m\u001b[0;34m\u001b[0m\u001b[0m\n\u001b[1;32m     69\u001b[0m       \u001b[0;32mdel\u001b[0m \u001b[0mfiltered_tb\u001b[0m\u001b[0;34m\u001b[0m\u001b[0;34m\u001b[0m\u001b[0m\n",
            "\u001b[0;32m/usr/local/lib/python3.7/dist-packages/tensorflow/python/eager/execute.py\u001b[0m in \u001b[0;36mquick_execute\u001b[0;34m(op_name, num_outputs, inputs, attrs, ctx, name)\u001b[0m\n\u001b[1;32m     57\u001b[0m     \u001b[0mctx\u001b[0m\u001b[0;34m.\u001b[0m\u001b[0mensure_initialized\u001b[0m\u001b[0;34m(\u001b[0m\u001b[0;34m)\u001b[0m\u001b[0;34m\u001b[0m\u001b[0;34m\u001b[0m\u001b[0m\n\u001b[1;32m     58\u001b[0m     tensors = pywrap_tfe.TFE_Py_Execute(ctx._handle, device_name, op_name,\n\u001b[0;32m---> 59\u001b[0;31m                                         inputs, attrs, num_outputs)\n\u001b[0m\u001b[1;32m     60\u001b[0m   \u001b[0;32mexcept\u001b[0m \u001b[0mcore\u001b[0m\u001b[0;34m.\u001b[0m\u001b[0m_NotOkStatusException\u001b[0m \u001b[0;32mas\u001b[0m \u001b[0me\u001b[0m\u001b[0;34m:\u001b[0m\u001b[0;34m\u001b[0m\u001b[0;34m\u001b[0m\u001b[0m\n\u001b[1;32m     61\u001b[0m     \u001b[0;32mif\u001b[0m \u001b[0mname\u001b[0m \u001b[0;32mis\u001b[0m \u001b[0;32mnot\u001b[0m \u001b[0;32mNone\u001b[0m\u001b[0;34m:\u001b[0m\u001b[0;34m\u001b[0m\u001b[0;34m\u001b[0m\u001b[0m\n",
            "\u001b[0;31mInvalidArgumentError\u001b[0m:  logits and labels must have the same first dimension, got logits shape [32,5] and labels shape [160]\n\t [[node sparse_categorical_crossentropy/SparseSoftmaxCrossEntropyWithLogits/SparseSoftmaxCrossEntropyWithLogits\n (defined at /usr/local/lib/python3.7/dist-packages/keras/backend.py:5114)\n]] [Op:__inference_train_function_42829]\n\nErrors may have originated from an input operation.\nInput Source operations connected to node sparse_categorical_crossentropy/SparseSoftmaxCrossEntropyWithLogits/SparseSoftmaxCrossEntropyWithLogits:\nIn[0] sparse_categorical_crossentropy/Reshape_1 (defined at /usr/local/lib/python3.7/dist-packages/keras/backend.py:5109)\t\nIn[1] sparse_categorical_crossentropy/Reshape (defined at /usr/local/lib/python3.7/dist-packages/keras/backend.py:3561)\n\nOperation defined at: (most recent call last)\n>>>   File \"/usr/lib/python3.7/runpy.py\", line 193, in _run_module_as_main\n>>>     \"__main__\", mod_spec)\n>>> \n>>>   File \"/usr/lib/python3.7/runpy.py\", line 85, in _run_code\n>>>     exec(code, run_globals)\n>>> \n>>>   File \"/usr/local/lib/python3.7/dist-packages/ipykernel_launcher.py\", line 16, in <module>\n>>>     app.launch_new_instance()\n>>> \n>>>   File \"/usr/local/lib/python3.7/dist-packages/traitlets/config/application.py\", line 846, in launch_instance\n>>>     app.start()\n>>> \n>>>   File \"/usr/local/lib/python3.7/dist-packages/ipykernel/kernelapp.py\", line 499, in start\n>>>     self.io_loop.start()\n>>> \n>>>   File \"/usr/local/lib/python3.7/dist-packages/tornado/platform/asyncio.py\", line 132, in start\n>>>     self.asyncio_loop.run_forever()\n>>> \n>>>   File \"/usr/lib/python3.7/asyncio/base_events.py\", line 541, in run_forever\n>>>     self._run_once()\n>>> \n>>>   File \"/usr/lib/python3.7/asyncio/base_events.py\", line 1786, in _run_once\n>>>     handle._run()\n>>> \n>>>   File \"/usr/lib/python3.7/asyncio/events.py\", line 88, in _run\n>>>     self._context.run(self._callback, *self._args)\n>>> \n>>>   File \"/usr/local/lib/python3.7/dist-packages/tornado/platform/asyncio.py\", line 122, in _handle_events\n>>>     handler_func(fileobj, events)\n>>> \n>>>   File \"/usr/local/lib/python3.7/dist-packages/tornado/stack_context.py\", line 300, in null_wrapper\n>>>     return fn(*args, **kwargs)\n>>> \n>>>   File \"/usr/local/lib/python3.7/dist-packages/zmq/eventloop/zmqstream.py\", line 452, in _handle_events\n>>>     self._handle_recv()\n>>> \n>>>   File \"/usr/local/lib/python3.7/dist-packages/zmq/eventloop/zmqstream.py\", line 481, in _handle_recv\n>>>     self._run_callback(callback, msg)\n>>> \n>>>   File \"/usr/local/lib/python3.7/dist-packages/zmq/eventloop/zmqstream.py\", line 431, in _run_callback\n>>>     callback(*args, **kwargs)\n>>> \n>>>   File \"/usr/local/lib/python3.7/dist-packages/tornado/stack_context.py\", line 300, in null_wrapper\n>>>     return fn(*args, **kwargs)\n>>> \n>>>   File \"/usr/local/lib/python3.7/dist-packages/ipykernel/kernelbase.py\", line 283, in dispatcher\n>>>     return self.dispatch_shell(stream, msg)\n>>> \n>>>   File \"/usr/local/lib/python3.7/dist-packages/ipykernel/kernelbase.py\", line 233, in dispatch_shell\n>>>     handler(stream, idents, msg)\n>>> \n>>>   File \"/usr/local/lib/python3.7/dist-packages/ipykernel/kernelbase.py\", line 399, in execute_request\n>>>     user_expressions, allow_stdin)\n>>> \n>>>   File \"/usr/local/lib/python3.7/dist-packages/ipykernel/ipkernel.py\", line 208, in do_execute\n>>>     res = shell.run_cell(code, store_history=store_history, silent=silent)\n>>> \n>>>   File \"/usr/local/lib/python3.7/dist-packages/ipykernel/zmqshell.py\", line 537, in run_cell\n>>>     return super(ZMQInteractiveShell, self).run_cell(*args, **kwargs)\n>>> \n>>>   File \"/usr/local/lib/python3.7/dist-packages/IPython/core/interactiveshell.py\", line 2718, in run_cell\n>>>     interactivity=interactivity, compiler=compiler, result=result)\n>>> \n>>>   File \"/usr/local/lib/python3.7/dist-packages/IPython/core/interactiveshell.py\", line 2822, in run_ast_nodes\n>>>     if self.run_code(code, result):\n>>> \n>>>   File \"/usr/local/lib/python3.7/dist-packages/IPython/core/interactiveshell.py\", line 2882, in run_code\n>>>     exec(code_obj, self.user_global_ns, self.user_ns)\n>>> \n>>>   File \"<ipython-input-164-3fabee69b42f>\", line 15, in <module>\n>>>     history = model.fit(train_data_generator, epochs=10, verbose=0, validation_data=valid_data_generator)\n>>> \n>>>   File \"/usr/local/lib/python3.7/dist-packages/keras/utils/traceback_utils.py\", line 64, in error_handler\n>>>     return fn(*args, **kwargs)\n>>> \n>>>   File \"/usr/local/lib/python3.7/dist-packages/keras/engine/training.py\", line 1216, in fit\n>>>     tmp_logs = self.train_function(iterator)\n>>> \n>>>   File \"/usr/local/lib/python3.7/dist-packages/keras/engine/training.py\", line 878, in train_function\n>>>     return step_function(self, iterator)\n>>> \n>>>   File \"/usr/local/lib/python3.7/dist-packages/keras/engine/training.py\", line 867, in step_function\n>>>     outputs = model.distribute_strategy.run(run_step, args=(data,))\n>>> \n>>>   File \"/usr/local/lib/python3.7/dist-packages/keras/engine/training.py\", line 860, in run_step\n>>>     outputs = model.train_step(data)\n>>> \n>>>   File \"/usr/local/lib/python3.7/dist-packages/keras/engine/training.py\", line 810, in train_step\n>>>     y, y_pred, sample_weight, regularization_losses=self.losses)\n>>> \n>>>   File \"/usr/local/lib/python3.7/dist-packages/keras/engine/compile_utils.py\", line 201, in __call__\n>>>     loss_value = loss_obj(y_t, y_p, sample_weight=sw)\n>>> \n>>>   File \"/usr/local/lib/python3.7/dist-packages/keras/losses.py\", line 141, in __call__\n>>>     losses = call_fn(y_true, y_pred)\n>>> \n>>>   File \"/usr/local/lib/python3.7/dist-packages/keras/losses.py\", line 245, in call\n>>>     return ag_fn(y_true, y_pred, **self._fn_kwargs)\n>>> \n>>>   File \"/usr/local/lib/python3.7/dist-packages/keras/losses.py\", line 1738, in sparse_categorical_crossentropy\n>>>     y_true, y_pred, from_logits=from_logits, axis=axis)\n>>> \n>>>   File \"/usr/local/lib/python3.7/dist-packages/keras/backend.py\", line 5114, in sparse_categorical_crossentropy\n>>>     labels=target, logits=output)\n>>> "
          ]
        }
      ]
    },
    {
      "cell_type": "code",
      "source": [
        ""
      ],
      "metadata": {
        "id": "09Qy5zLaDiNz"
      },
      "execution_count": null,
      "outputs": []
    }
  ]
}